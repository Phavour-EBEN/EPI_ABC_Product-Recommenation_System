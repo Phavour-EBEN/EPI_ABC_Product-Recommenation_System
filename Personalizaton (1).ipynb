{
  "cells": [
    {
      "cell_type": "code",
      "execution_count": 2,
      "metadata": {
        "colab": {
          "base_uri": "https://localhost:8080/"
        },
        "id": "-K4BznA5Up7s",
        "outputId": "774f76d5-5e25-486e-c8f0-b6b163ab37ee"
      },
      "outputs": [
        {
          "name": "stdout",
          "output_type": "stream",
          "text": [
            "Note: you may need to restart the kernel to use updated packages.\n",
            "Requirement already satisfied: CTGAN in c:\\users\\phavour\\appdata\\local\\programs\\python\\python312\\lib\\site-packages (0.10.1)\n",
            "Requirement already satisfied: tqdm<5,>=4.29 in c:\\users\\phavour\\appdata\\local\\programs\\python\\python312\\lib\\site-packages (from CTGAN) (4.66.5)\n",
            "Requirement already satisfied: rdt>=1.11.0 in c:\\users\\phavour\\appdata\\local\\programs\\python\\python312\\lib\\site-packages (from CTGAN) (1.12.3)\n",
            "Requirement already satisfied: numpy<2,>=1.26.0 in c:\\users\\phavour\\appdata\\local\\programs\\python\\python312\\lib\\site-packages (from CTGAN) (1.26.4)\n",
            "Requirement already satisfied: pandas>=2.1.1 in c:\\users\\phavour\\appdata\\local\\programs\\python\\python312\\lib\\site-packages (from CTGAN) (2.2.1)\n",
            "Requirement already satisfied: torch>=2.2.0 in c:\\users\\phavour\\appdata\\local\\programs\\python\\python312\\lib\\site-packages (from CTGAN) (2.4.0)\n",
            "Requirement already satisfied: python-dateutil>=2.8.2 in c:\\users\\phavour\\appdata\\local\\programs\\python\\python312\\lib\\site-packages (from pandas>=2.1.1->CTGAN) (2.9.0.post0)\n",
            "Requirement already satisfied: pytz>=2020.1 in c:\\users\\phavour\\appdata\\local\\programs\\python\\python312\\lib\\site-packages (from pandas>=2.1.1->CTGAN) (2024.1)\n",
            "Requirement already satisfied: tzdata>=2022.7 in c:\\users\\phavour\\appdata\\local\\programs\\python\\python312\\lib\\site-packages (from pandas>=2.1.1->CTGAN) (2024.1)\n",
            "Requirement already satisfied: Faker>=17 in c:\\users\\phavour\\appdata\\local\\programs\\python\\python312\\lib\\site-packages (from rdt>=1.11.0->CTGAN) (28.1.0)\n",
            "Requirement already satisfied: scipy>=1.12.0 in c:\\users\\phavour\\appdata\\local\\programs\\python\\python312\\lib\\site-packages (from rdt>=1.11.0->CTGAN) (1.13.0)\n",
            "Requirement already satisfied: scikit-learn>=1.3.1 in c:\\users\\phavour\\appdata\\local\\programs\\python\\python312\\lib\\site-packages (from rdt>=1.11.0->CTGAN) (1.4.2)\n",
            "Requirement already satisfied: filelock in c:\\users\\phavour\\appdata\\local\\programs\\python\\python312\\lib\\site-packages (from torch>=2.2.0->CTGAN) (3.15.4)\n",
            "Requirement already satisfied: typing-extensions>=4.8.0 in c:\\users\\phavour\\appdata\\local\\programs\\python\\python312\\lib\\site-packages (from torch>=2.2.0->CTGAN) (4.12.2)\n",
            "Requirement already satisfied: sympy in c:\\users\\phavour\\appdata\\local\\programs\\python\\python312\\lib\\site-packages (from torch>=2.2.0->CTGAN) (1.13.2)\n",
            "Requirement already satisfied: networkx in c:\\users\\phavour\\appdata\\local\\programs\\python\\python312\\lib\\site-packages (from torch>=2.2.0->CTGAN) (3.3)\n",
            "Requirement already satisfied: jinja2 in c:\\users\\phavour\\appdata\\local\\programs\\python\\python312\\lib\\site-packages (from torch>=2.2.0->CTGAN) (3.1.4)\n",
            "Requirement already satisfied: fsspec in c:\\users\\phavour\\appdata\\local\\programs\\python\\python312\\lib\\site-packages (from torch>=2.2.0->CTGAN) (2024.6.1)\n",
            "Requirement already satisfied: setuptools in c:\\users\\phavour\\appdata\\local\\programs\\python\\python312\\lib\\site-packages (from torch>=2.2.0->CTGAN) (69.2.0)\n",
            "Requirement already satisfied: colorama in c:\\users\\phavour\\appdata\\roaming\\python\\python312\\site-packages (from tqdm<5,>=4.29->CTGAN) (0.4.6)\n",
            "Requirement already satisfied: six>=1.5 in c:\\users\\phavour\\appdata\\local\\programs\\python\\python312\\lib\\site-packages (from python-dateutil>=2.8.2->pandas>=2.1.1->CTGAN) (1.16.0)\n",
            "Requirement already satisfied: joblib>=1.2.0 in c:\\users\\phavour\\appdata\\local\\programs\\python\\python312\\lib\\site-packages (from scikit-learn>=1.3.1->rdt>=1.11.0->CTGAN) (1.4.2)\n",
            "Requirement already satisfied: threadpoolctl>=2.0.0 in c:\\users\\phavour\\appdata\\local\\programs\\python\\python312\\lib\\site-packages (from scikit-learn>=1.3.1->rdt>=1.11.0->CTGAN) (3.5.0)\n",
            "Requirement already satisfied: MarkupSafe>=2.0 in c:\\users\\phavour\\appdata\\local\\programs\\python\\python312\\lib\\site-packages (from jinja2->torch>=2.2.0->CTGAN) (2.1.5)\n",
            "Requirement already satisfied: mpmath<1.4,>=1.1.0 in c:\\users\\phavour\\appdata\\local\\programs\\python\\python312\\lib\\site-packages (from sympy->torch>=2.2.0->CTGAN) (1.3.0)\n"
          ]
        },
        {
          "name": "stderr",
          "output_type": "stream",
          "text": [
            "WARNING: Ignoring invalid distribution ~orch (c:\\Users\\Phavour\\AppData\\Local\\Programs\\Python\\Python312\\Lib\\site-packages)\n",
            "WARNING: Ignoring invalid distribution ~orch (c:\\Users\\Phavour\\AppData\\Local\\Programs\\Python\\Python312\\Lib\\site-packages)\n",
            "WARNING: Ignoring invalid distribution ~orch (c:\\Users\\Phavour\\AppData\\Local\\Programs\\Python\\Python312\\Lib\\site-packages)\n"
          ]
        }
      ],
      "source": [
        "# pip install CTGAN"
      ]
    },
    {
      "cell_type": "code",
      "execution_count": 1,
      "metadata": {
        "id": "NM_Cm0veUp7v"
      },
      "outputs": [],
      "source": [
        "import pandas as pd\n",
        "import numpy as np"
      ]
    },
    {
      "cell_type": "code",
      "execution_count": 2,
      "metadata": {
        "id": "mBN9LTX7Up7v"
      },
      "outputs": [],
      "source": [
        "comments_df = pd.read_csv('comments.csv')\n",
        "post_performance_df = pd.read_csv('post_performance.csv')"
      ]
    },
    {
      "cell_type": "code",
      "execution_count": 3,
      "metadata": {
        "colab": {
          "base_uri": "https://localhost:8080/",
          "height": 206
        },
        "id": "AO4CoBfxUp7w",
        "outputId": "82faaf13-d93f-4c9b-a18c-5fe0044de25f"
      },
      "outputs": [
        {
          "data": {
            "text/html": [
              "<div>\n",
              "<style scoped>\n",
              "    .dataframe tbody tr th:only-of-type {\n",
              "        vertical-align: middle;\n",
              "    }\n",
              "\n",
              "    .dataframe tbody tr th {\n",
              "        vertical-align: top;\n",
              "    }\n",
              "\n",
              "    .dataframe thead th {\n",
              "        text-align: right;\n",
              "    }\n",
              "</style>\n",
              "<table border=\"1\" class=\"dataframe\">\n",
              "  <thead>\n",
              "    <tr style=\"text-align: right;\">\n",
              "      <th></th>\n",
              "      <th>id</th>\n",
              "      <th>postId</th>\n",
              "      <th>sender_id</th>\n",
              "      <th>Comment</th>\n",
              "      <th>attachment</th>\n",
              "      <th>type</th>\n",
              "      <th>commentId</th>\n",
              "      <th>date</th>\n",
              "    </tr>\n",
              "  </thead>\n",
              "  <tbody>\n",
              "    <tr>\n",
              "      <th>0</th>\n",
              "      <td>1</td>\n",
              "      <td>undefined</td>\n",
              "      <td>2</td>\n",
              "      <td>Yoo</td>\n",
              "      <td>NaN</td>\n",
              "      <td>comment</td>\n",
              "      <td>NaN</td>\n",
              "      <td>2024-05-14 12:36:08</td>\n",
              "    </tr>\n",
              "    <tr>\n",
              "      <th>1</th>\n",
              "      <td>2</td>\n",
              "      <td>20</td>\n",
              "      <td>2</td>\n",
              "      <td>this is an image s3 s3n</td>\n",
              "      <td>NaN</td>\n",
              "      <td>comment</td>\n",
              "      <td>NaN</td>\n",
              "      <td>2024-05-14 12:39:55</td>\n",
              "    </tr>\n",
              "    <tr>\n",
              "      <th>2</th>\n",
              "      <td>3</td>\n",
              "      <td>undefined</td>\n",
              "      <td>2</td>\n",
              "      <td>c</td>\n",
              "      <td>NaN</td>\n",
              "      <td>comment</td>\n",
              "      <td>NaN</td>\n",
              "      <td>2024-05-14 12:40:17</td>\n",
              "    </tr>\n",
              "    <tr>\n",
              "      <th>3</th>\n",
              "      <td>4</td>\n",
              "      <td>5</td>\n",
              "      <td>2</td>\n",
              "      <td>lie</td>\n",
              "      <td>NaN</td>\n",
              "      <td>comment</td>\n",
              "      <td>NaN</td>\n",
              "      <td>2024-05-14 12:42:27</td>\n",
              "    </tr>\n",
              "    <tr>\n",
              "      <th>4</th>\n",
              "      <td>5</td>\n",
              "      <td>undefined</td>\n",
              "      <td>2</td>\n",
              "      <td>ghgm,</td>\n",
              "      <td>NaN</td>\n",
              "      <td>comment</td>\n",
              "      <td>NaN</td>\n",
              "      <td>2024-05-14 13:45:29</td>\n",
              "    </tr>\n",
              "  </tbody>\n",
              "</table>\n",
              "</div>"
            ],
            "text/plain": [
              "  id     postId sender_id                  Comment attachment     type  \\\n",
              "0  1  undefined         2                      Yoo        NaN  comment   \n",
              "1  2         20         2  this is an image s3 s3n        NaN  comment   \n",
              "2  3  undefined         2                        c        NaN  comment   \n",
              "3  4          5         2                      lie        NaN  comment   \n",
              "4  5  undefined         2                    ghgm,        NaN  comment   \n",
              "\n",
              "  commentId                 date  \n",
              "0       NaN  2024-05-14 12:36:08  \n",
              "1       NaN  2024-05-14 12:39:55  \n",
              "2       NaN  2024-05-14 12:40:17  \n",
              "3       NaN  2024-05-14 12:42:27  \n",
              "4       NaN  2024-05-14 13:45:29  "
            ]
          },
          "execution_count": 3,
          "metadata": {},
          "output_type": "execute_result"
        }
      ],
      "source": [
        "comments_df.head()"
      ]
    },
    {
      "cell_type": "code",
      "execution_count": 4,
      "metadata": {
        "colab": {
          "base_uri": "https://localhost:8080/",
          "height": 206
        },
        "id": "bpSepKZUUp7x",
        "outputId": "1137d63b-f6df-4375-a04b-47dfe42c8df5"
      },
      "outputs": [
        {
          "data": {
            "text/html": [
              "<div>\n",
              "<style scoped>\n",
              "    .dataframe tbody tr th:only-of-type {\n",
              "        vertical-align: middle;\n",
              "    }\n",
              "\n",
              "    .dataframe tbody tr th {\n",
              "        vertical-align: top;\n",
              "    }\n",
              "\n",
              "    .dataframe thead th {\n",
              "        text-align: right;\n",
              "    }\n",
              "</style>\n",
              "<table border=\"1\" class=\"dataframe\">\n",
              "  <thead>\n",
              "    <tr style=\"text-align: right;\">\n",
              "      <th></th>\n",
              "      <th>id</th>\n",
              "      <th>PID</th>\n",
              "      <th>Reaction</th>\n",
              "      <th>UID</th>\n",
              "      <th>not_status</th>\n",
              "      <th>date</th>\n",
              "    </tr>\n",
              "  </thead>\n",
              "  <tbody>\n",
              "    <tr>\n",
              "      <th>0</th>\n",
              "      <td>1</td>\n",
              "      <td>2</td>\n",
              "      <td>like</td>\n",
              "      <td>17</td>\n",
              "      <td>NaN</td>\n",
              "      <td>2024-05-31 22:14:04</td>\n",
              "    </tr>\n",
              "    <tr>\n",
              "      <th>1</th>\n",
              "      <td>2</td>\n",
              "      <td>3</td>\n",
              "      <td>like</td>\n",
              "      <td>17</td>\n",
              "      <td>NaN</td>\n",
              "      <td>2024-05-31 22:14:37</td>\n",
              "    </tr>\n",
              "    <tr>\n",
              "      <th>2</th>\n",
              "      <td>3</td>\n",
              "      <td>5</td>\n",
              "      <td>like</td>\n",
              "      <td>17</td>\n",
              "      <td>NaN</td>\n",
              "      <td>2024-05-31 22:26:28</td>\n",
              "    </tr>\n",
              "    <tr>\n",
              "      <th>3</th>\n",
              "      <td>4</td>\n",
              "      <td>20</td>\n",
              "      <td>like</td>\n",
              "      <td>17</td>\n",
              "      <td>NaN</td>\n",
              "      <td>2024-05-31 22:26:34</td>\n",
              "    </tr>\n",
              "    <tr>\n",
              "      <th>4</th>\n",
              "      <td>6</td>\n",
              "      <td>1</td>\n",
              "      <td>like</td>\n",
              "      <td>17</td>\n",
              "      <td>NaN</td>\n",
              "      <td>2024-05-31 22:33:13</td>\n",
              "    </tr>\n",
              "  </tbody>\n",
              "</table>\n",
              "</div>"
            ],
            "text/plain": [
              "   id  PID Reaction  UID  not_status                 date\n",
              "0   1    2     like   17         NaN  2024-05-31 22:14:04\n",
              "1   2    3     like   17         NaN  2024-05-31 22:14:37\n",
              "2   3    5     like   17         NaN  2024-05-31 22:26:28\n",
              "3   4   20     like   17         NaN  2024-05-31 22:26:34\n",
              "4   6    1     like   17         NaN  2024-05-31 22:33:13"
            ]
          },
          "execution_count": 4,
          "metadata": {},
          "output_type": "execute_result"
        }
      ],
      "source": [
        "post_performance_df.head()"
      ]
    },
    {
      "cell_type": "code",
      "execution_count": 5,
      "metadata": {
        "colab": {
          "base_uri": "https://localhost:8080/"
        },
        "id": "CPNEt0ILUp7x",
        "outputId": "0aeae575-1a22-4cf8-8383-a45ad630b837"
      },
      "outputs": [
        {
          "name": "stdout",
          "output_type": "stream",
          "text": [
            "<class 'pandas.core.frame.DataFrame'>\n",
            "RangeIndex: 243 entries, 0 to 242\n",
            "Data columns (total 8 columns):\n",
            " #   Column      Non-Null Count  Dtype \n",
            "---  ------      --------------  ----- \n",
            " 0   id          243 non-null    object\n",
            " 1   postId      243 non-null    object\n",
            " 2   sender_id   243 non-null    object\n",
            " 3   Comment     127 non-null    object\n",
            " 4   attachment  3 non-null      object\n",
            " 5   type        243 non-null    object\n",
            " 6   commentId   3 non-null      object\n",
            " 7   date        243 non-null    object\n",
            "dtypes: object(8)\n",
            "memory usage: 15.3+ KB\n",
            "_--------------------------\n",
            "<class 'pandas.core.frame.DataFrame'>\n",
            "RangeIndex: 20 entries, 0 to 19\n",
            "Data columns (total 6 columns):\n",
            " #   Column      Non-Null Count  Dtype  \n",
            "---  ------      --------------  -----  \n",
            " 0   id          20 non-null     int64  \n",
            " 1   PID         20 non-null     int64  \n",
            " 2   Reaction    20 non-null     object \n",
            " 3   UID         20 non-null     int64  \n",
            " 4   not_status  0 non-null      float64\n",
            " 5   date        20 non-null     object \n",
            "dtypes: float64(1), int64(3), object(2)\n",
            "memory usage: 1.1+ KB\n",
            "None\n"
          ]
        }
      ],
      "source": [
        "comments_df.info()\n",
        "print('_--------------------------')\n",
        "print(post_performance_df.info())"
      ]
    },
    {
      "cell_type": "code",
      "execution_count": 6,
      "metadata": {
        "colab": {
          "base_uri": "https://localhost:8080/",
          "height": 335
        },
        "id": "Zf4hUuurUp7y",
        "outputId": "1f39dd8a-cf5a-452f-f387-6e0c2679608a"
      },
      "outputs": [
        {
          "data": {
            "text/plain": [
              "id              0\n",
              "postId          0\n",
              "sender_id       0\n",
              "Comment       116\n",
              "attachment    240\n",
              "type            0\n",
              "commentId     240\n",
              "date            0\n",
              "dtype: int64"
            ]
          },
          "execution_count": 6,
          "metadata": {},
          "output_type": "execute_result"
        }
      ],
      "source": [
        "comments_df.isna().sum()"
      ]
    },
    {
      "cell_type": "code",
      "execution_count": 7,
      "metadata": {
        "colab": {
          "base_uri": "https://localhost:8080/"
        },
        "id": "kAAybswGUp7y",
        "outputId": "1af9d82d-e137-4a30-a24b-7332f9a75e1e"
      },
      "outputs": [
        {
          "name": "stdout",
          "output_type": "stream",
          "text": [
            "id             0\n",
            "PID            0\n",
            "Reaction       0\n",
            "UID            0\n",
            "not_status    20\n",
            "date           0\n",
            "dtype: int64\n"
          ]
        }
      ],
      "source": [
        "print(post_performance_df.isna().sum())"
      ]
    },
    {
      "cell_type": "code",
      "execution_count": 8,
      "metadata": {
        "id": "Pf0OG1IjUp7z"
      },
      "outputs": [],
      "source": [
        "comments_df=comments_df.drop('attachment',axis=1)\n",
        "comments_df=comments_df.drop('commentId',axis=1)\n",
        "post_performance_df=post_performance_df.drop('not_status',axis=1)"
      ]
    },
    {
      "cell_type": "code",
      "execution_count": 9,
      "metadata": {
        "colab": {
          "base_uri": "https://localhost:8080/",
          "height": 272
        },
        "id": "WgBF2QL5Up7z",
        "outputId": "94c34f94-dd94-48a3-eab4-de5586b76520"
      },
      "outputs": [
        {
          "data": {
            "text/plain": [
              "id             0\n",
              "postId         0\n",
              "sender_id      0\n",
              "Comment      116\n",
              "type           0\n",
              "date           0\n",
              "dtype: int64"
            ]
          },
          "execution_count": 9,
          "metadata": {},
          "output_type": "execute_result"
        }
      ],
      "source": [
        "comments_df.isna().sum()"
      ]
    },
    {
      "cell_type": "code",
      "execution_count": 10,
      "metadata": {
        "id": "NYAhIm_XUp70"
      },
      "outputs": [],
      "source": [
        "comments_df['Comment'] = comments_df['Comment'].fillna('Unknown')"
      ]
    },
    {
      "cell_type": "code",
      "execution_count": 11,
      "metadata": {
        "colab": {
          "base_uri": "https://localhost:8080/",
          "height": 241
        },
        "id": "boJKMtyFUp70",
        "outputId": "1f0fdf74-a571-4cb1-c60b-89f1d1541d6b"
      },
      "outputs": [
        {
          "data": {
            "text/plain": [
              "id          0\n",
              "PID         0\n",
              "Reaction    0\n",
              "UID         0\n",
              "date        0\n",
              "dtype: int64"
            ]
          },
          "execution_count": 11,
          "metadata": {},
          "output_type": "execute_result"
        }
      ],
      "source": [
        "post_performance_df.isna().sum()"
      ]
    },
    {
      "cell_type": "code",
      "execution_count": 12,
      "metadata": {
        "colab": {
          "base_uri": "https://localhost:8080/",
          "height": 458
        },
        "id": "Io3AeCADUp71",
        "outputId": "e3eb7281-4e27-40e5-ef3b-95afb7dbf709"
      },
      "outputs": [
        {
          "data": {
            "text/plain": [
              "0                                                    Yoo\n",
              "1                                this is an image s3 s3n\n",
              "2                                                      c\n",
              "3                                                    lie\n",
              "4                                                  ghgm,\n",
              "                             ...                        \n",
              "238    Always lying. you just want to come and sconde...\n",
              "239                                                   hi\n",
              "240                                                  try\n",
              "241                                              Wossup \n",
              "242                                            dfghhjj,k\n",
              "Name: Comment, Length: 243, dtype: object"
            ]
          },
          "execution_count": 12,
          "metadata": {},
          "output_type": "execute_result"
        }
      ],
      "source": [
        "comments_df['Comment']"
      ]
    },
    {
      "cell_type": "code",
      "execution_count": 13,
      "metadata": {
        "colab": {
          "base_uri": "https://localhost:8080/"
        },
        "id": "i8O50YEJUp72",
        "outputId": "392e4201-8826-444e-c4b4-d56b830894a8"
      },
      "outputs": [
        {
          "name": "stdout",
          "output_type": "stream",
          "text": [
            "Non-numeric user_ids:\n",
            "      id  postId  sender_id  Comment  type  date\n",
            "60   id  postId  sender_id  Comment  type  date\n",
            "121  id  postId  sender_id  Comment  type  date\n",
            "182  id  postId  sender_id  Comment  type  date\n"
          ]
        }
      ],
      "source": [
        "# Identify and print non-numeric user_id values\n",
        "non_numeric_ids = comments_df[~comments_df['id'].str.isnumeric()]\n",
        "print(\"Non-numeric user_ids:\\n\", non_numeric_ids)\n",
        "\n",
        "# Remove non-numeric user_id values\n",
        "comments_df = comments_df[comments_df['id'].str.isnumeric()]\n",
        "\n",
        "# Convert to integers\n",
        "comments_df['id'] = comments_df['id'].astype(int)\n",
        "\n"
      ]
    },
    {
      "cell_type": "code",
      "execution_count": 14,
      "metadata": {
        "id": "GWEhDCY5Up72"
      },
      "outputs": [],
      "source": [
        "# comments_df['id'] = comments_df['id'].astype('int64')\n",
        "# post_performance_df['id'] = likes_df['id'].astype(int)\n",
        "\n",
        "merged_df = pd.merge(comments_df, post_performance_df, on='id', how='inner')\n"
      ]
    },
    {
      "cell_type": "code",
      "execution_count": 15,
      "metadata": {
        "colab": {
          "base_uri": "https://localhost:8080/",
          "height": 424
        },
        "id": "TVWNpeoaUp73",
        "outputId": "6b09fc27-a9a8-4c5d-98ab-0f30bd7a25fb"
      },
      "outputs": [
        {
          "data": {
            "text/html": [
              "<div>\n",
              "<style scoped>\n",
              "    .dataframe tbody tr th:only-of-type {\n",
              "        vertical-align: middle;\n",
              "    }\n",
              "\n",
              "    .dataframe tbody tr th {\n",
              "        vertical-align: top;\n",
              "    }\n",
              "\n",
              "    .dataframe thead th {\n",
              "        text-align: right;\n",
              "    }\n",
              "</style>\n",
              "<table border=\"1\" class=\"dataframe\">\n",
              "  <thead>\n",
              "    <tr style=\"text-align: right;\">\n",
              "      <th></th>\n",
              "      <th>id</th>\n",
              "      <th>postId</th>\n",
              "      <th>sender_id</th>\n",
              "      <th>Comment</th>\n",
              "      <th>type</th>\n",
              "      <th>date_x</th>\n",
              "      <th>PID</th>\n",
              "      <th>Reaction</th>\n",
              "      <th>UID</th>\n",
              "      <th>date_y</th>\n",
              "    </tr>\n",
              "  </thead>\n",
              "  <tbody>\n",
              "    <tr>\n",
              "      <th>0</th>\n",
              "      <td>1</td>\n",
              "      <td>undefined</td>\n",
              "      <td>2</td>\n",
              "      <td>Yoo</td>\n",
              "      <td>comment</td>\n",
              "      <td>2024-05-14 12:36:08</td>\n",
              "      <td>2</td>\n",
              "      <td>like</td>\n",
              "      <td>17</td>\n",
              "      <td>2024-05-31 22:14:04</td>\n",
              "    </tr>\n",
              "    <tr>\n",
              "      <th>1</th>\n",
              "      <td>2</td>\n",
              "      <td>20</td>\n",
              "      <td>2</td>\n",
              "      <td>this is an image s3 s3n</td>\n",
              "      <td>comment</td>\n",
              "      <td>2024-05-14 12:39:55</td>\n",
              "      <td>3</td>\n",
              "      <td>like</td>\n",
              "      <td>17</td>\n",
              "      <td>2024-05-31 22:14:37</td>\n",
              "    </tr>\n",
              "    <tr>\n",
              "      <th>2</th>\n",
              "      <td>3</td>\n",
              "      <td>undefined</td>\n",
              "      <td>2</td>\n",
              "      <td>c</td>\n",
              "      <td>comment</td>\n",
              "      <td>2024-05-14 12:40:17</td>\n",
              "      <td>5</td>\n",
              "      <td>like</td>\n",
              "      <td>17</td>\n",
              "      <td>2024-05-31 22:26:28</td>\n",
              "    </tr>\n",
              "    <tr>\n",
              "      <th>3</th>\n",
              "      <td>4</td>\n",
              "      <td>5</td>\n",
              "      <td>2</td>\n",
              "      <td>lie</td>\n",
              "      <td>comment</td>\n",
              "      <td>2024-05-14 12:42:27</td>\n",
              "      <td>20</td>\n",
              "      <td>like</td>\n",
              "      <td>17</td>\n",
              "      <td>2024-05-31 22:26:34</td>\n",
              "    </tr>\n",
              "    <tr>\n",
              "      <th>4</th>\n",
              "      <td>6</td>\n",
              "      <td>undefined</td>\n",
              "      <td>2</td>\n",
              "      <td>hjjkk i really like this content</td>\n",
              "      <td>comment</td>\n",
              "      <td>2024-05-14 13:45:44</td>\n",
              "      <td>1</td>\n",
              "      <td>like</td>\n",
              "      <td>17</td>\n",
              "      <td>2024-05-31 22:33:13</td>\n",
              "    </tr>\n",
              "    <tr>\n",
              "      <th>...</th>\n",
              "      <td>...</td>\n",
              "      <td>...</td>\n",
              "      <td>...</td>\n",
              "      <td>...</td>\n",
              "      <td>...</td>\n",
              "      <td>...</td>\n",
              "      <td>...</td>\n",
              "      <td>...</td>\n",
              "      <td>...</td>\n",
              "      <td>...</td>\n",
              "    </tr>\n",
              "    <tr>\n",
              "      <th>75</th>\n",
              "      <td>31</td>\n",
              "      <td>19</td>\n",
              "      <td>20</td>\n",
              "      <td>Unknown</td>\n",
              "      <td>comment</td>\n",
              "      <td>2024-05-14 14:58:09</td>\n",
              "      <td>19</td>\n",
              "      <td>like</td>\n",
              "      <td>2</td>\n",
              "      <td>2024-06-06 12:58:02</td>\n",
              "    </tr>\n",
              "    <tr>\n",
              "      <th>76</th>\n",
              "      <td>36</td>\n",
              "      <td>19</td>\n",
              "      <td>20</td>\n",
              "      <td>Unknown</td>\n",
              "      <td>comment</td>\n",
              "      <td>2024-05-14 14:58:11</td>\n",
              "      <td>3</td>\n",
              "      <td>like</td>\n",
              "      <td>16</td>\n",
              "      <td>2024-07-05 22:32:52</td>\n",
              "    </tr>\n",
              "    <tr>\n",
              "      <th>77</th>\n",
              "      <td>37</td>\n",
              "      <td>19</td>\n",
              "      <td>20</td>\n",
              "      <td>Unknown</td>\n",
              "      <td>comment</td>\n",
              "      <td>2024-05-14 14:58:11</td>\n",
              "      <td>4</td>\n",
              "      <td>like</td>\n",
              "      <td>17</td>\n",
              "      <td>2024-07-06 18:22:20</td>\n",
              "    </tr>\n",
              "    <tr>\n",
              "      <th>78</th>\n",
              "      <td>38</td>\n",
              "      <td>19</td>\n",
              "      <td>20</td>\n",
              "      <td>Unknown</td>\n",
              "      <td>comment</td>\n",
              "      <td>2024-05-14 14:58:11</td>\n",
              "      <td>4</td>\n",
              "      <td>like</td>\n",
              "      <td>19</td>\n",
              "      <td>2024-07-08 01:14:25</td>\n",
              "    </tr>\n",
              "    <tr>\n",
              "      <th>79</th>\n",
              "      <td>39</td>\n",
              "      <td>19</td>\n",
              "      <td>20</td>\n",
              "      <td>Unknown</td>\n",
              "      <td>comment</td>\n",
              "      <td>2024-05-14 14:58:11</td>\n",
              "      <td>2</td>\n",
              "      <td>like</td>\n",
              "      <td>19</td>\n",
              "      <td>2024-07-08 01:14:44</td>\n",
              "    </tr>\n",
              "  </tbody>\n",
              "</table>\n",
              "<p>80 rows × 10 columns</p>\n",
              "</div>"
            ],
            "text/plain": [
              "    id     postId sender_id                           Comment     type  \\\n",
              "0    1  undefined         2                               Yoo  comment   \n",
              "1    2         20         2           this is an image s3 s3n  comment   \n",
              "2    3  undefined         2                                 c  comment   \n",
              "3    4          5         2                               lie  comment   \n",
              "4    6  undefined         2  hjjkk i really like this content  comment   \n",
              "..  ..        ...       ...                               ...      ...   \n",
              "75  31         19        20                           Unknown  comment   \n",
              "76  36         19        20                           Unknown  comment   \n",
              "77  37         19        20                           Unknown  comment   \n",
              "78  38         19        20                           Unknown  comment   \n",
              "79  39         19        20                           Unknown  comment   \n",
              "\n",
              "                 date_x  PID Reaction  UID               date_y  \n",
              "0   2024-05-14 12:36:08    2     like   17  2024-05-31 22:14:04  \n",
              "1   2024-05-14 12:39:55    3     like   17  2024-05-31 22:14:37  \n",
              "2   2024-05-14 12:40:17    5     like   17  2024-05-31 22:26:28  \n",
              "3   2024-05-14 12:42:27   20     like   17  2024-05-31 22:26:34  \n",
              "4   2024-05-14 13:45:44    1     like   17  2024-05-31 22:33:13  \n",
              "..                  ...  ...      ...  ...                  ...  \n",
              "75  2024-05-14 14:58:09   19     like    2  2024-06-06 12:58:02  \n",
              "76  2024-05-14 14:58:11    3     like   16  2024-07-05 22:32:52  \n",
              "77  2024-05-14 14:58:11    4     like   17  2024-07-06 18:22:20  \n",
              "78  2024-05-14 14:58:11    4     like   19  2024-07-08 01:14:25  \n",
              "79  2024-05-14 14:58:11    2     like   19  2024-07-08 01:14:44  \n",
              "\n",
              "[80 rows x 10 columns]"
            ]
          },
          "execution_count": 15,
          "metadata": {},
          "output_type": "execute_result"
        }
      ],
      "source": [
        "merged_df"
      ]
    },
    {
      "cell_type": "code",
      "execution_count": 16,
      "metadata": {
        "colab": {
          "base_uri": "https://localhost:8080/"
        },
        "id": "y6Kc0qCfUp73",
        "outputId": "136d4560-f3b5-420d-cf7c-b0fbdac78c2f"
      },
      "outputs": [
        {
          "name": "stdout",
          "output_type": "stream",
          "text": [
            "<class 'pandas.core.frame.DataFrame'>\n",
            "RangeIndex: 80 entries, 0 to 79\n",
            "Data columns (total 10 columns):\n",
            " #   Column     Non-Null Count  Dtype \n",
            "---  ------     --------------  ----- \n",
            " 0   id         80 non-null     int32 \n",
            " 1   postId     80 non-null     object\n",
            " 2   sender_id  80 non-null     object\n",
            " 3   Comment    80 non-null     object\n",
            " 4   type       80 non-null     object\n",
            " 5   date_x     80 non-null     object\n",
            " 6   PID        80 non-null     int64 \n",
            " 7   Reaction   80 non-null     object\n",
            " 8   UID        80 non-null     int64 \n",
            " 9   date_y     80 non-null     object\n",
            "dtypes: int32(1), int64(2), object(7)\n",
            "memory usage: 6.1+ KB\n"
          ]
        }
      ],
      "source": [
        "merged_df.info()"
      ]
    },
    {
      "cell_type": "code",
      "execution_count": 17,
      "metadata": {},
      "outputs": [
        {
          "data": {
            "text/plain": [
              "array([17, 18, 19,  2, 16], dtype=int64)"
            ]
          },
          "execution_count": 17,
          "metadata": {},
          "output_type": "execute_result"
        }
      ],
      "source": [
        "merged_df['UID'].unique()\n"
      ]
    },
    {
      "cell_type": "code",
      "execution_count": 34,
      "metadata": {
        "id": "t_QGumjdUp74"
      },
      "outputs": [
        {
          "ename": "OSError",
          "evalue": "[WinError 126] The specified module could not be found. Error loading \"c:\\Users\\Phavour\\AppData\\Local\\Programs\\Python\\Python312\\Lib\\site-packages\\torch\\lib\\fbgemm.dll\" or one of its dependencies.",
          "output_type": "error",
          "traceback": [
            "\u001b[1;31m---------------------------------------------------------------------------\u001b[0m",
            "\u001b[1;31mOSError\u001b[0m                                   Traceback (most recent call last)",
            "Cell \u001b[1;32mIn[34], line 3\u001b[0m\n\u001b[0;32m      1\u001b[0m categorical_features \u001b[38;5;241m=\u001b[39m [\u001b[38;5;124m'\u001b[39m\u001b[38;5;124mpostId\u001b[39m\u001b[38;5;124m'\u001b[39m,\u001b[38;5;124m'\u001b[39m\u001b[38;5;124msender_id\u001b[39m\u001b[38;5;124m'\u001b[39m,\u001b[38;5;124m'\u001b[39m\u001b[38;5;124mComment\u001b[39m\u001b[38;5;124m'\u001b[39m,\u001b[38;5;124m'\u001b[39m\u001b[38;5;124mtype\u001b[39m\u001b[38;5;124m'\u001b[39m,\u001b[38;5;124m'\u001b[39m\u001b[38;5;124mdate_x\u001b[39m\u001b[38;5;124m'\u001b[39m,\u001b[38;5;124m'\u001b[39m\u001b[38;5;124mReaction\u001b[39m\u001b[38;5;124m'\u001b[39m,\u001b[38;5;124m'\u001b[39m\u001b[38;5;124mdate_y\u001b[39m\u001b[38;5;124m'\u001b[39m]\n\u001b[1;32m----> 3\u001b[0m \u001b[38;5;28;01mfrom\u001b[39;00m \u001b[38;5;21;01mctgan\u001b[39;00m \u001b[38;5;28;01mimport\u001b[39;00m CTGAN\n\u001b[0;32m      5\u001b[0m ctgan \u001b[38;5;241m=\u001b[39m CTGAN(verbose\u001b[38;5;241m=\u001b[39m\u001b[38;5;28;01mTrue\u001b[39;00m)\n\u001b[0;32m      6\u001b[0m ctgan\u001b[38;5;241m.\u001b[39mfit(merged_df, categorical_features, epochs \u001b[38;5;241m=\u001b[39m \u001b[38;5;241m200\u001b[39m)\n",
            "File \u001b[1;32mc:\\Users\\Phavour\\AppData\\Local\\Programs\\Python\\Python312\\Lib\\site-packages\\ctgan\\__init__.py:10\u001b[0m\n\u001b[0;32m      7\u001b[0m __version__ \u001b[38;5;241m=\u001b[39m \u001b[38;5;124m'\u001b[39m\u001b[38;5;124m0.10.1\u001b[39m\u001b[38;5;124m'\u001b[39m\n\u001b[0;32m      9\u001b[0m \u001b[38;5;28;01mfrom\u001b[39;00m \u001b[38;5;21;01mctgan\u001b[39;00m\u001b[38;5;21;01m.\u001b[39;00m\u001b[38;5;21;01mdemo\u001b[39;00m \u001b[38;5;28;01mimport\u001b[39;00m load_demo\n\u001b[1;32m---> 10\u001b[0m \u001b[38;5;28;01mfrom\u001b[39;00m \u001b[38;5;21;01mctgan\u001b[39;00m\u001b[38;5;21;01m.\u001b[39;00m\u001b[38;5;21;01msynthesizers\u001b[39;00m\u001b[38;5;21;01m.\u001b[39;00m\u001b[38;5;21;01mctgan\u001b[39;00m \u001b[38;5;28;01mimport\u001b[39;00m CTGAN\n\u001b[0;32m     11\u001b[0m \u001b[38;5;28;01mfrom\u001b[39;00m \u001b[38;5;21;01mctgan\u001b[39;00m\u001b[38;5;21;01m.\u001b[39;00m\u001b[38;5;21;01msynthesizers\u001b[39;00m\u001b[38;5;21;01m.\u001b[39;00m\u001b[38;5;21;01mtvae\u001b[39;00m \u001b[38;5;28;01mimport\u001b[39;00m TVAE\n\u001b[0;32m     13\u001b[0m __all__ \u001b[38;5;241m=\u001b[39m (\n\u001b[0;32m     14\u001b[0m     \u001b[38;5;124m'\u001b[39m\u001b[38;5;124mCTGAN\u001b[39m\u001b[38;5;124m'\u001b[39m,\n\u001b[0;32m     15\u001b[0m     \u001b[38;5;124m'\u001b[39m\u001b[38;5;124mTVAE\u001b[39m\u001b[38;5;124m'\u001b[39m,\n\u001b[0;32m     16\u001b[0m     \u001b[38;5;124m'\u001b[39m\u001b[38;5;124mload_demo\u001b[39m\u001b[38;5;124m'\u001b[39m\n\u001b[0;32m     17\u001b[0m )\n",
            "File \u001b[1;32mc:\\Users\\Phavour\\AppData\\Local\\Programs\\Python\\Python312\\Lib\\site-packages\\ctgan\\synthesizers\\__init__.py:3\u001b[0m\n\u001b[0;32m      1\u001b[0m \u001b[38;5;124;03m\"\"\"Synthesizers module.\"\"\"\u001b[39;00m\n\u001b[1;32m----> 3\u001b[0m \u001b[38;5;28;01mfrom\u001b[39;00m \u001b[38;5;21;01mctgan\u001b[39;00m\u001b[38;5;21;01m.\u001b[39;00m\u001b[38;5;21;01msynthesizers\u001b[39;00m\u001b[38;5;21;01m.\u001b[39;00m\u001b[38;5;21;01mctgan\u001b[39;00m \u001b[38;5;28;01mimport\u001b[39;00m CTGAN\n\u001b[0;32m      4\u001b[0m \u001b[38;5;28;01mfrom\u001b[39;00m \u001b[38;5;21;01mctgan\u001b[39;00m\u001b[38;5;21;01m.\u001b[39;00m\u001b[38;5;21;01msynthesizers\u001b[39;00m\u001b[38;5;21;01m.\u001b[39;00m\u001b[38;5;21;01mtvae\u001b[39;00m \u001b[38;5;28;01mimport\u001b[39;00m TVAE\n\u001b[0;32m      6\u001b[0m __all__ \u001b[38;5;241m=\u001b[39m (\n\u001b[0;32m      7\u001b[0m     \u001b[38;5;124m'\u001b[39m\u001b[38;5;124mCTGAN\u001b[39m\u001b[38;5;124m'\u001b[39m,\n\u001b[0;32m      8\u001b[0m     \u001b[38;5;124m'\u001b[39m\u001b[38;5;124mTVAE\u001b[39m\u001b[38;5;124m'\u001b[39m\n\u001b[0;32m      9\u001b[0m )\n",
            "File \u001b[1;32mc:\\Users\\Phavour\\AppData\\Local\\Programs\\Python\\Python312\\Lib\\site-packages\\ctgan\\synthesizers\\ctgan.py:7\u001b[0m\n\u001b[0;32m      5\u001b[0m \u001b[38;5;28;01mimport\u001b[39;00m \u001b[38;5;21;01mnumpy\u001b[39;00m \u001b[38;5;28;01mas\u001b[39;00m \u001b[38;5;21;01mnp\u001b[39;00m\n\u001b[0;32m      6\u001b[0m \u001b[38;5;28;01mimport\u001b[39;00m \u001b[38;5;21;01mpandas\u001b[39;00m \u001b[38;5;28;01mas\u001b[39;00m \u001b[38;5;21;01mpd\u001b[39;00m\n\u001b[1;32m----> 7\u001b[0m \u001b[38;5;28;01mimport\u001b[39;00m \u001b[38;5;21;01mtorch\u001b[39;00m\n\u001b[0;32m      8\u001b[0m \u001b[38;5;28;01mfrom\u001b[39;00m \u001b[38;5;21;01mtorch\u001b[39;00m \u001b[38;5;28;01mimport\u001b[39;00m optim\n\u001b[0;32m      9\u001b[0m \u001b[38;5;28;01mfrom\u001b[39;00m \u001b[38;5;21;01mtorch\u001b[39;00m\u001b[38;5;21;01m.\u001b[39;00m\u001b[38;5;21;01mnn\u001b[39;00m \u001b[38;5;28;01mimport\u001b[39;00m BatchNorm1d, Dropout, LeakyReLU, Linear, Module, ReLU, Sequential, functional\n",
            "File \u001b[1;32mc:\\Users\\Phavour\\AppData\\Local\\Programs\\Python\\Python312\\Lib\\site-packages\\torch\\__init__.py:148\u001b[0m\n\u001b[0;32m    146\u001b[0m                 err \u001b[38;5;241m=\u001b[39m ctypes\u001b[38;5;241m.\u001b[39mWinError(ctypes\u001b[38;5;241m.\u001b[39mget_last_error())\n\u001b[0;32m    147\u001b[0m                 err\u001b[38;5;241m.\u001b[39mstrerror \u001b[38;5;241m+\u001b[39m\u001b[38;5;241m=\u001b[39m \u001b[38;5;124mf\u001b[39m\u001b[38;5;124m'\u001b[39m\u001b[38;5;124m Error loading \u001b[39m\u001b[38;5;124m\"\u001b[39m\u001b[38;5;132;01m{\u001b[39;00mdll\u001b[38;5;132;01m}\u001b[39;00m\u001b[38;5;124m\"\u001b[39m\u001b[38;5;124m or one of its dependencies.\u001b[39m\u001b[38;5;124m'\u001b[39m\n\u001b[1;32m--> 148\u001b[0m                 \u001b[38;5;28;01mraise\u001b[39;00m err\n\u001b[0;32m    150\u001b[0m     kernel32\u001b[38;5;241m.\u001b[39mSetErrorMode(prev_error_mode)\n\u001b[0;32m    153\u001b[0m \u001b[38;5;28;01mdef\u001b[39;00m \u001b[38;5;21m_preload_cuda_deps\u001b[39m(lib_folder, lib_name):\n",
            "\u001b[1;31mOSError\u001b[0m: [WinError 126] The specified module could not be found. Error loading \"c:\\Users\\Phavour\\AppData\\Local\\Programs\\Python\\Python312\\Lib\\site-packages\\torch\\lib\\fbgemm.dll\" or one of its dependencies."
          ]
        },
        {
          "ename": "",
          "evalue": "",
          "output_type": "error",
          "traceback": [
            "\u001b[1;31mThe Kernel crashed while executing code in the current cell or a previous cell. \n",
            "\u001b[1;31mPlease review the code in the cell(s) to identify a possible cause of the failure. \n",
            "\u001b[1;31mClick <a href='https://aka.ms/vscodeJupyterKernelCrash'>here</a> for more info. \n",
            "\u001b[1;31mView Jupyter <a href='command:jupyter.viewOutput'>log</a> for further details."
          ]
        }
      ],
      "source": [
        "# categorical_features = ['postId','sender_id','Comment','type','date_x','Reaction','date_y']\n",
        "\n",
        "# from ctgan import CTGAN\n",
        "\n",
        "# ctgan = CTGAN(verbose=True)\n",
        "# ctgan.fit(merged_df, categorical_features, epochs = 200)"
      ]
    },
    {
      "cell_type": "code",
      "execution_count": 20,
      "metadata": {
        "id": "Mxd4psHaHbzI"
      },
      "outputs": [],
      "source": [
        "samples = ctgan.sample(1000)\n",
        "samples"
      ]
    },
    {
      "cell_type": "code",
      "execution_count": 21,
      "metadata": {
        "id": "RPWKcfxEH8Qj"
      },
      "outputs": [],
      "source": [
        "samples.info()"
      ]
    },
    {
      "cell_type": "code",
      "execution_count": 22,
      "metadata": {
        "id": "H8_tCihLNQv-"
      },
      "outputs": [],
      "source": [
        "dataset = pd.merge(merged_df,samples, on='id', how='inner')\n",
        "dataset"
      ]
    },
    {
      "cell_type": "code",
      "execution_count": 23,
      "metadata": {
        "id": "u4Z0UDBeNnDC"
      },
      "outputs": [],
      "source": [
        "dataset.drop(['date_x_x','date_y_x','date_x_y','date_y_y'], axis=1, inplace=True)\n",
        "dataset"
      ]
    },
    {
      "cell_type": "code",
      "execution_count": 24,
      "metadata": {
        "id": "wBN_9EDWb3re"
      },
      "outputs": [],
      "source": [
        "# prompt: drop type x,Comments_y and type_y\n",
        "\n",
        "dataset.drop(['type_x', 'Comment_y', 'type_y'], axis=1, inplace=True)\n",
        "dataset"
      ]
    },
    {
      "cell_type": "code",
      "execution_count": 25,
      "metadata": {
        "id": "Ogu5oSmIYwn1"
      },
      "outputs": [],
      "source": [
        "# dataset.Reaction_x.unique()"
      ]
    },
    {
      "cell_type": "code",
      "execution_count": 26,
      "metadata": {
        "id": "gZGOBAf1IAsF"
      },
      "outputs": [],
      "source": [
        "from sklearn.metrics.pairwise import cosine_similarity\n",
        "from collections import defaultdict"
      ]
    },
    {
      "cell_type": "code",
      "execution_count": 27,
      "metadata": {
        "id": "gZDn1M33Ys-P"
      },
      "outputs": [],
      "source": [
        "# One-hot encoding for likes\n",
        "merged_df['Reaction'] = merged_df['liked'] = 1\n",
        "# user_likes_matrix = dataset.pivot(index='user_id', columns='post_id', values='liked').fillna(0)\n"
      ]
    },
    {
      "cell_type": "code",
      "execution_count": 28,
      "metadata": {
        "colab": {
          "base_uri": "https://localhost:8080/",
          "height": 424
        },
        "id": "t5LpOtpFS_sq",
        "outputId": "3bacc8e7-f449-43ed-e7a1-6e6e6a457db1"
      },
      "outputs": [
        {
          "data": {
            "text/html": [
              "<div>\n",
              "<style scoped>\n",
              "    .dataframe tbody tr th:only-of-type {\n",
              "        vertical-align: middle;\n",
              "    }\n",
              "\n",
              "    .dataframe tbody tr th {\n",
              "        vertical-align: top;\n",
              "    }\n",
              "\n",
              "    .dataframe thead th {\n",
              "        text-align: right;\n",
              "    }\n",
              "</style>\n",
              "<table border=\"1\" class=\"dataframe\">\n",
              "  <thead>\n",
              "    <tr style=\"text-align: right;\">\n",
              "      <th></th>\n",
              "      <th>id</th>\n",
              "      <th>postId</th>\n",
              "      <th>sender_id</th>\n",
              "      <th>Comment</th>\n",
              "      <th>type</th>\n",
              "      <th>date_x</th>\n",
              "      <th>PID</th>\n",
              "      <th>Reaction</th>\n",
              "      <th>UID</th>\n",
              "      <th>date_y</th>\n",
              "      <th>liked</th>\n",
              "    </tr>\n",
              "  </thead>\n",
              "  <tbody>\n",
              "    <tr>\n",
              "      <th>0</th>\n",
              "      <td>1</td>\n",
              "      <td>undefined</td>\n",
              "      <td>2</td>\n",
              "      <td>Yoo</td>\n",
              "      <td>comment</td>\n",
              "      <td>2024-05-14 12:36:08</td>\n",
              "      <td>2</td>\n",
              "      <td>1</td>\n",
              "      <td>17</td>\n",
              "      <td>2024-05-31 22:14:04</td>\n",
              "      <td>1</td>\n",
              "    </tr>\n",
              "    <tr>\n",
              "      <th>1</th>\n",
              "      <td>2</td>\n",
              "      <td>20</td>\n",
              "      <td>2</td>\n",
              "      <td>this is an image s3 s3n</td>\n",
              "      <td>comment</td>\n",
              "      <td>2024-05-14 12:39:55</td>\n",
              "      <td>3</td>\n",
              "      <td>1</td>\n",
              "      <td>17</td>\n",
              "      <td>2024-05-31 22:14:37</td>\n",
              "      <td>1</td>\n",
              "    </tr>\n",
              "    <tr>\n",
              "      <th>2</th>\n",
              "      <td>3</td>\n",
              "      <td>undefined</td>\n",
              "      <td>2</td>\n",
              "      <td>c</td>\n",
              "      <td>comment</td>\n",
              "      <td>2024-05-14 12:40:17</td>\n",
              "      <td>5</td>\n",
              "      <td>1</td>\n",
              "      <td>17</td>\n",
              "      <td>2024-05-31 22:26:28</td>\n",
              "      <td>1</td>\n",
              "    </tr>\n",
              "    <tr>\n",
              "      <th>3</th>\n",
              "      <td>4</td>\n",
              "      <td>5</td>\n",
              "      <td>2</td>\n",
              "      <td>lie</td>\n",
              "      <td>comment</td>\n",
              "      <td>2024-05-14 12:42:27</td>\n",
              "      <td>20</td>\n",
              "      <td>1</td>\n",
              "      <td>17</td>\n",
              "      <td>2024-05-31 22:26:34</td>\n",
              "      <td>1</td>\n",
              "    </tr>\n",
              "    <tr>\n",
              "      <th>4</th>\n",
              "      <td>6</td>\n",
              "      <td>undefined</td>\n",
              "      <td>2</td>\n",
              "      <td>hjjkk i really like this content</td>\n",
              "      <td>comment</td>\n",
              "      <td>2024-05-14 13:45:44</td>\n",
              "      <td>1</td>\n",
              "      <td>1</td>\n",
              "      <td>17</td>\n",
              "      <td>2024-05-31 22:33:13</td>\n",
              "      <td>1</td>\n",
              "    </tr>\n",
              "    <tr>\n",
              "      <th>...</th>\n",
              "      <td>...</td>\n",
              "      <td>...</td>\n",
              "      <td>...</td>\n",
              "      <td>...</td>\n",
              "      <td>...</td>\n",
              "      <td>...</td>\n",
              "      <td>...</td>\n",
              "      <td>...</td>\n",
              "      <td>...</td>\n",
              "      <td>...</td>\n",
              "      <td>...</td>\n",
              "    </tr>\n",
              "    <tr>\n",
              "      <th>75</th>\n",
              "      <td>31</td>\n",
              "      <td>19</td>\n",
              "      <td>20</td>\n",
              "      <td>Unknown</td>\n",
              "      <td>comment</td>\n",
              "      <td>2024-05-14 14:58:09</td>\n",
              "      <td>19</td>\n",
              "      <td>1</td>\n",
              "      <td>2</td>\n",
              "      <td>2024-06-06 12:58:02</td>\n",
              "      <td>1</td>\n",
              "    </tr>\n",
              "    <tr>\n",
              "      <th>76</th>\n",
              "      <td>36</td>\n",
              "      <td>19</td>\n",
              "      <td>20</td>\n",
              "      <td>Unknown</td>\n",
              "      <td>comment</td>\n",
              "      <td>2024-05-14 14:58:11</td>\n",
              "      <td>3</td>\n",
              "      <td>1</td>\n",
              "      <td>16</td>\n",
              "      <td>2024-07-05 22:32:52</td>\n",
              "      <td>1</td>\n",
              "    </tr>\n",
              "    <tr>\n",
              "      <th>77</th>\n",
              "      <td>37</td>\n",
              "      <td>19</td>\n",
              "      <td>20</td>\n",
              "      <td>Unknown</td>\n",
              "      <td>comment</td>\n",
              "      <td>2024-05-14 14:58:11</td>\n",
              "      <td>4</td>\n",
              "      <td>1</td>\n",
              "      <td>17</td>\n",
              "      <td>2024-07-06 18:22:20</td>\n",
              "      <td>1</td>\n",
              "    </tr>\n",
              "    <tr>\n",
              "      <th>78</th>\n",
              "      <td>38</td>\n",
              "      <td>19</td>\n",
              "      <td>20</td>\n",
              "      <td>Unknown</td>\n",
              "      <td>comment</td>\n",
              "      <td>2024-05-14 14:58:11</td>\n",
              "      <td>4</td>\n",
              "      <td>1</td>\n",
              "      <td>19</td>\n",
              "      <td>2024-07-08 01:14:25</td>\n",
              "      <td>1</td>\n",
              "    </tr>\n",
              "    <tr>\n",
              "      <th>79</th>\n",
              "      <td>39</td>\n",
              "      <td>19</td>\n",
              "      <td>20</td>\n",
              "      <td>Unknown</td>\n",
              "      <td>comment</td>\n",
              "      <td>2024-05-14 14:58:11</td>\n",
              "      <td>2</td>\n",
              "      <td>1</td>\n",
              "      <td>19</td>\n",
              "      <td>2024-07-08 01:14:44</td>\n",
              "      <td>1</td>\n",
              "    </tr>\n",
              "  </tbody>\n",
              "</table>\n",
              "<p>80 rows × 11 columns</p>\n",
              "</div>"
            ],
            "text/plain": [
              "    id     postId sender_id                           Comment     type  \\\n",
              "0    1  undefined         2                               Yoo  comment   \n",
              "1    2         20         2           this is an image s3 s3n  comment   \n",
              "2    3  undefined         2                                 c  comment   \n",
              "3    4          5         2                               lie  comment   \n",
              "4    6  undefined         2  hjjkk i really like this content  comment   \n",
              "..  ..        ...       ...                               ...      ...   \n",
              "75  31         19        20                           Unknown  comment   \n",
              "76  36         19        20                           Unknown  comment   \n",
              "77  37         19        20                           Unknown  comment   \n",
              "78  38         19        20                           Unknown  comment   \n",
              "79  39         19        20                           Unknown  comment   \n",
              "\n",
              "                 date_x  PID  Reaction  UID               date_y  liked  \n",
              "0   2024-05-14 12:36:08    2         1   17  2024-05-31 22:14:04      1  \n",
              "1   2024-05-14 12:39:55    3         1   17  2024-05-31 22:14:37      1  \n",
              "2   2024-05-14 12:40:17    5         1   17  2024-05-31 22:26:28      1  \n",
              "3   2024-05-14 12:42:27   20         1   17  2024-05-31 22:26:34      1  \n",
              "4   2024-05-14 13:45:44    1         1   17  2024-05-31 22:33:13      1  \n",
              "..                  ...  ...       ...  ...                  ...    ...  \n",
              "75  2024-05-14 14:58:09   19         1    2  2024-06-06 12:58:02      1  \n",
              "76  2024-05-14 14:58:11    3         1   16  2024-07-05 22:32:52      1  \n",
              "77  2024-05-14 14:58:11    4         1   17  2024-07-06 18:22:20      1  \n",
              "78  2024-05-14 14:58:11    4         1   19  2024-07-08 01:14:25      1  \n",
              "79  2024-05-14 14:58:11    2         1   19  2024-07-08 01:14:44      1  \n",
              "\n",
              "[80 rows x 11 columns]"
            ]
          },
          "execution_count": 28,
          "metadata": {},
          "output_type": "execute_result"
        }
      ],
      "source": [
        "merged_df"
      ]
    },
    {
      "cell_type": "code",
      "execution_count": 29,
      "metadata": {
        "colab": {
          "base_uri": "https://localhost:8080/",
          "height": 424
        },
        "id": "7wjVDPPdUwM1",
        "outputId": "f026ef16-8d93-4fd7-a83f-545257905bc2"
      },
      "outputs": [
        {
          "data": {
            "text/html": [
              "<div>\n",
              "<style scoped>\n",
              "    .dataframe tbody tr th:only-of-type {\n",
              "        vertical-align: middle;\n",
              "    }\n",
              "\n",
              "    .dataframe tbody tr th {\n",
              "        vertical-align: top;\n",
              "    }\n",
              "\n",
              "    .dataframe thead th {\n",
              "        text-align: right;\n",
              "    }\n",
              "</style>\n",
              "<table border=\"1\" class=\"dataframe\">\n",
              "  <thead>\n",
              "    <tr style=\"text-align: right;\">\n",
              "      <th></th>\n",
              "      <th>id</th>\n",
              "      <th>postId</th>\n",
              "      <th>sender_id</th>\n",
              "      <th>Comment</th>\n",
              "      <th>PID</th>\n",
              "      <th>Reaction</th>\n",
              "      <th>UID</th>\n",
              "      <th>liked</th>\n",
              "    </tr>\n",
              "  </thead>\n",
              "  <tbody>\n",
              "    <tr>\n",
              "      <th>0</th>\n",
              "      <td>1</td>\n",
              "      <td>undefined</td>\n",
              "      <td>2</td>\n",
              "      <td>Yoo</td>\n",
              "      <td>2</td>\n",
              "      <td>1</td>\n",
              "      <td>17</td>\n",
              "      <td>1</td>\n",
              "    </tr>\n",
              "    <tr>\n",
              "      <th>1</th>\n",
              "      <td>2</td>\n",
              "      <td>20</td>\n",
              "      <td>2</td>\n",
              "      <td>this is an image s3 s3n</td>\n",
              "      <td>3</td>\n",
              "      <td>1</td>\n",
              "      <td>17</td>\n",
              "      <td>1</td>\n",
              "    </tr>\n",
              "    <tr>\n",
              "      <th>2</th>\n",
              "      <td>3</td>\n",
              "      <td>undefined</td>\n",
              "      <td>2</td>\n",
              "      <td>c</td>\n",
              "      <td>5</td>\n",
              "      <td>1</td>\n",
              "      <td>17</td>\n",
              "      <td>1</td>\n",
              "    </tr>\n",
              "    <tr>\n",
              "      <th>3</th>\n",
              "      <td>4</td>\n",
              "      <td>5</td>\n",
              "      <td>2</td>\n",
              "      <td>lie</td>\n",
              "      <td>20</td>\n",
              "      <td>1</td>\n",
              "      <td>17</td>\n",
              "      <td>1</td>\n",
              "    </tr>\n",
              "    <tr>\n",
              "      <th>4</th>\n",
              "      <td>6</td>\n",
              "      <td>undefined</td>\n",
              "      <td>2</td>\n",
              "      <td>hjjkk i really like this content</td>\n",
              "      <td>1</td>\n",
              "      <td>1</td>\n",
              "      <td>17</td>\n",
              "      <td>1</td>\n",
              "    </tr>\n",
              "    <tr>\n",
              "      <th>...</th>\n",
              "      <td>...</td>\n",
              "      <td>...</td>\n",
              "      <td>...</td>\n",
              "      <td>...</td>\n",
              "      <td>...</td>\n",
              "      <td>...</td>\n",
              "      <td>...</td>\n",
              "      <td>...</td>\n",
              "    </tr>\n",
              "    <tr>\n",
              "      <th>75</th>\n",
              "      <td>31</td>\n",
              "      <td>19</td>\n",
              "      <td>20</td>\n",
              "      <td>Unknown</td>\n",
              "      <td>19</td>\n",
              "      <td>1</td>\n",
              "      <td>2</td>\n",
              "      <td>1</td>\n",
              "    </tr>\n",
              "    <tr>\n",
              "      <th>76</th>\n",
              "      <td>36</td>\n",
              "      <td>19</td>\n",
              "      <td>20</td>\n",
              "      <td>Unknown</td>\n",
              "      <td>3</td>\n",
              "      <td>1</td>\n",
              "      <td>16</td>\n",
              "      <td>1</td>\n",
              "    </tr>\n",
              "    <tr>\n",
              "      <th>77</th>\n",
              "      <td>37</td>\n",
              "      <td>19</td>\n",
              "      <td>20</td>\n",
              "      <td>Unknown</td>\n",
              "      <td>4</td>\n",
              "      <td>1</td>\n",
              "      <td>17</td>\n",
              "      <td>1</td>\n",
              "    </tr>\n",
              "    <tr>\n",
              "      <th>78</th>\n",
              "      <td>38</td>\n",
              "      <td>19</td>\n",
              "      <td>20</td>\n",
              "      <td>Unknown</td>\n",
              "      <td>4</td>\n",
              "      <td>1</td>\n",
              "      <td>19</td>\n",
              "      <td>1</td>\n",
              "    </tr>\n",
              "    <tr>\n",
              "      <th>79</th>\n",
              "      <td>39</td>\n",
              "      <td>19</td>\n",
              "      <td>20</td>\n",
              "      <td>Unknown</td>\n",
              "      <td>2</td>\n",
              "      <td>1</td>\n",
              "      <td>19</td>\n",
              "      <td>1</td>\n",
              "    </tr>\n",
              "  </tbody>\n",
              "</table>\n",
              "<p>80 rows × 8 columns</p>\n",
              "</div>"
            ],
            "text/plain": [
              "    id     postId sender_id                           Comment  PID  Reaction  \\\n",
              "0    1  undefined         2                               Yoo    2         1   \n",
              "1    2         20         2           this is an image s3 s3n    3         1   \n",
              "2    3  undefined         2                                 c    5         1   \n",
              "3    4          5         2                               lie   20         1   \n",
              "4    6  undefined         2  hjjkk i really like this content    1         1   \n",
              "..  ..        ...       ...                               ...  ...       ...   \n",
              "75  31         19        20                           Unknown   19         1   \n",
              "76  36         19        20                           Unknown    3         1   \n",
              "77  37         19        20                           Unknown    4         1   \n",
              "78  38         19        20                           Unknown    4         1   \n",
              "79  39         19        20                           Unknown    2         1   \n",
              "\n",
              "    UID  liked  \n",
              "0    17      1  \n",
              "1    17      1  \n",
              "2    17      1  \n",
              "3    17      1  \n",
              "4    17      1  \n",
              "..  ...    ...  \n",
              "75    2      1  \n",
              "76   16      1  \n",
              "77   17      1  \n",
              "78   19      1  \n",
              "79   19      1  \n",
              "\n",
              "[80 rows x 8 columns]"
            ]
          },
          "execution_count": 29,
          "metadata": {},
          "output_type": "execute_result"
        }
      ],
      "source": [
        "merged_df.drop(['date_x','date_y','type'], axis=1, inplace=True)\n",
        "merged_df"
      ]
    },
    {
      "cell_type": "code",
      "execution_count": 30,
      "metadata": {
        "id": "QpVKKJ4bMTOV"
      },
      "outputs": [],
      "source": [
        "def user_user_cf(merged_df, target_user, n_similar_users=5, n_recommendations=10):\n",
        "    # Create a user-item matrix based on reactions\n",
        "    user_item_matrix = pd.pivot_table(merged_df, values='Reaction', index='UID', columns='PID', aggfunc='first')\n",
        "    user_item_matrix = user_item_matrix.fillna(0)  # Fill NaN with 0\n",
        "\n",
        "    # Calculate user similarity\n",
        "    user_similarity = cosine_similarity(user_item_matrix)\n",
        "    user_similarity_df = pd.DataFrame(user_similarity, index=user_item_matrix.index, columns=user_item_matrix.index)\n",
        "\n",
        "    # Find similar users\n",
        "    similar_users = user_similarity_df[target_user].sort_values(ascending=False)[1:n_similar_users+1].index\n",
        "\n",
        "    # Get recommendations\n",
        "    recommendations = defaultdict(float)\n",
        "    for user in similar_users:\n",
        "        user_reactions = merged_df[merged_df['UID'] == user]\n",
        "        for _, row in user_reactions.iterrows():\n",
        "            if row['PID'] not in user_item_matrix.loc[target_user]:\n",
        "                recommendations[row['PID']] += user_similarity_df.loc[target_user, user] * row['Reaction']\n",
        "\n",
        "    # Sort recommendations\n",
        "    sorted_recommendations = sorted(recommendations.items(), key=lambda x: x[1], reverse=True)[:n_recommendations]\n",
        "    return [pid for pid, _ in sorted_recommendations]\n"
      ]
    },
    {
      "cell_type": "code",
      "execution_count": 31,
      "metadata": {
        "id": "QbD-cObrb4TZ"
      },
      "outputs": [],
      "source": [
        "def reaction_based_recommendation(merged_df, target_post, n_recommendations=10):\n",
        "    # Create a post-reaction matrix\n",
        "    post_reaction_matrix = pd.pivot_table(merged_df, values='Reaction', index='PID', columns='UID', aggfunc='sum')\n",
        "    post_reaction_matrix = post_reaction_matrix.fillna(0)  # Fill NaN with 0\n",
        "\n",
        "    # Calculate post similarity\n",
        "    post_similarity = cosine_similarity(post_reaction_matrix)\n",
        "    post_similarity_df = pd.DataFrame(post_similarity, index=post_reaction_matrix.index, columns=post_reaction_matrix.index)\n",
        "\n",
        "    # Get similar posts\n",
        "    similar_posts = post_similarity_df[target_post].sort_values(ascending=False)[1:n_recommendations+1].index\n",
        "    return list(similar_posts)"
      ]
    },
    {
      "cell_type": "code",
      "execution_count": 32,
      "metadata": {
        "id": "W7BJ1i-kSvhk"
      },
      "outputs": [],
      "source": [
        "# Hybrid Recommendation System\n",
        "def hybrid_recommendation(dataset, target_user, target_post, weight_user=0.5, weight_reaction=0.5, n_recommendations=10):\n",
        "    user_recommendations = user_user_cf(merged_df, target_user, n_recommendations=n_recommendations)\n",
        "    reaction_recommendations = reaction_based_recommendation(merged_df, target_post, n_recommendations=n_recommendations)\n",
        "\n",
        "    # Combine recommendations\n",
        "    hybrid_scores = defaultdict(float)\n",
        "    for pid in set(user_recommendations + reaction_recommendations):\n",
        "        if pid in user_recommendations:\n",
        "            hybrid_scores[pid] += weight_user * (n_recommendations - user_recommendations.index(pid))\n",
        "        if pid in reaction_recommendations:\n",
        "            hybrid_scores[pid] += weight_reaction * (n_recommendations - reaction_recommendations.index(pid))\n",
        "\n",
        "    # Sort and return top recommendations\n",
        "    sorted_recommendations = sorted(hybrid_scores.items(), key=lambda x: x[1], reverse=True)[:n_recommendations]\n",
        "    return [pid for pid, _ in sorted_recommendations]\n",
        "\n"
      ]
    },
    {
      "cell_type": "code",
      "execution_count": 33,
      "metadata": {
        "colab": {
          "base_uri": "https://localhost:8080/"
        },
        "id": "669wLk7bSwob",
        "outputId": "aae68113-1d0f-471c-c399-751f952f3391"
      },
      "outputs": [
        {
          "name": "stdout",
          "output_type": "stream",
          "text": [
            "Recommendations for user 19 based on post 20:\n",
            "[1, 2, 3, 4, 5, 9, 19, 21, 6, 23]\n"
          ]
        }
      ],
      "source": [
        "# Example usage\n",
        "target_user = 19  # Replace with an actual user ID from your data\n",
        "target_post = 20  # Replace with an actual post ID from your data\n",
        "\n",
        "recommendations = hybrid_recommendation(merged_df, target_user, target_post)\n",
        "print(f\"Recommendations for user {target_user} based on post {target_post}:\")\n",
        "print(recommendations)"
      ]
    },
    {
      "cell_type": "code",
      "execution_count": null,
      "metadata": {
        "id": "p1eREMRsiWAP"
      },
      "outputs": [],
      "source": []
    }
  ],
  "metadata": {
    "colab": {
      "provenance": []
    },
    "kernelspec": {
      "display_name": "Python 3",
      "language": "python",
      "name": "python3"
    },
    "language_info": {
      "codemirror_mode": {
        "name": "ipython",
        "version": 3
      },
      "file_extension": ".py",
      "mimetype": "text/x-python",
      "name": "python",
      "nbconvert_exporter": "python",
      "pygments_lexer": "ipython3",
      "version": "3.12.1"
    }
  },
  "nbformat": 4,
  "nbformat_minor": 0
}
